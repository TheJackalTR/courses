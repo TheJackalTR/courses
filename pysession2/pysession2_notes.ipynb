{
  "nbformat": 4,
  "nbformat_minor": 0,
  "metadata": {
    "colab": {
      "name": "pysession2_notes.ipynb",
      "provenance": [],
      "collapsed_sections": [
        "rL-umIdxGHEt",
        "oAUd_tz5FmLE"
      ]
    },
    "kernelspec": {
      "name": "python3",
      "display_name": "Python 3"
    }
  },
  "cells": [
    {
      "cell_type": "markdown",
      "metadata": {
        "id": "d0mXZzRHF6MW",
        "colab_type": "text"
      },
      "source": [
        "#High Level vs Low Level Programming\n",
        "\n",
        "Low-level versus high-level refers to whether we program using\n",
        "instructions and data objects at the level of the machine (e.g., move 64\n",
        "bits of data from this location to that location) or whether we program\n",
        "using more abstract operations (e.g. progress bar) that\n",
        "have been provided by the language designer.\n",
        "\n",
        "![alt text](https://cdn.educba.com/academy/wp-content/uploads/2015/11/35.jpg)"
      ]
    },
    {
      "cell_type": "markdown",
      "metadata": {
        "id": "8mzlD__mHYKt",
        "colab_type": "text"
      },
      "source": [
        "\n",
        "Pros <br>\n",
        "1.   optimized code\n",
        "2.   excellent control on cpu\n",
        "\n",
        "Cons <br>\n",
        "\n",
        "1.   Difficult to use\n",
        "2.   Programmer need to know a lot of detail\n",
        "\n",
        "\n",
        "\n"
      ]
    },
    {
      "cell_type": "markdown",
      "metadata": {
        "id": "rL-umIdxGHEt",
        "colab_type": "text"
      },
      "source": [
        "#Data Types in Programming Language\n",
        "\n"
      ]
    },
    {
      "cell_type": "markdown",
      "metadata": {
        "id": "vjUWSJSIIq_V",
        "colab_type": "text"
      },
      "source": [
        "\n",
        "**int:** 1 2 3  4 5 6 0 <br> \n",
        "**float:** 3.7 veya 485.1598<br>\n",
        "**boolean:**  True False<br>"
      ]
    },
    {
      "cell_type": "markdown",
      "metadata": {
        "id": "oAUd_tz5FmLE",
        "colab_type": "text"
      },
      "source": [
        "#Assignment"
      ]
    },
    {
      "cell_type": "code",
      "metadata": {
        "id": "GTdibb2GFrGD",
        "colab_type": "code",
        "colab": {}
      },
      "source": [
        "sayi1 = 5\n",
        "sayi2 = 10.5"
      ],
      "execution_count": 0,
      "outputs": []
    },
    {
      "cell_type": "markdown",
      "metadata": {
        "id": "rG82mY0iFyF8",
        "colab_type": "text"
      },
      "source": [
        "##Aritmetik"
      ]
    },
    {
      "cell_type": "code",
      "metadata": {
        "id": "6R9qFKCiFt_0",
        "colab_type": "code",
        "outputId": "3e44f416-fa83-4980-d2f5-54f43024769c",
        "colab": {
          "base_uri": "https://localhost:8080/",
          "height": 34
        }
      },
      "source": [
        "toplama_sonucu = sayi1 + sayi2\n",
        "\n",
        "print(toplama_sonucu)"
      ],
      "execution_count": 0,
      "outputs": [
        {
          "output_type": "stream",
          "text": [
            "15\n"
          ],
          "name": "stdout"
        }
      ]
    },
    {
      "cell_type": "markdown",
      "metadata": {
        "id": "mFSo12A5wMNi",
        "colab_type": "text"
      },
      "source": [
        "#Range"
      ]
    },
    {
      "cell_type": "code",
      "metadata": {
        "id": "ZLiCRXa6wIRV",
        "colab_type": "code",
        "outputId": "31fcd122-4a4c-418f-c586-deeba80e5d7a",
        "colab": {
          "base_uri": "https://localhost:8080/",
          "height": 34
        }
      },
      "source": [
        "range(10)"
      ],
      "execution_count": 0,
      "outputs": [
        {
          "output_type": "execute_result",
          "data": {
            "text/plain": [
              "range(0, 10)"
            ]
          },
          "metadata": {
            "tags": []
          },
          "execution_count": 19
        }
      ]
    },
    {
      "cell_type": "markdown",
      "metadata": {
        "id": "9clUv7m-wQOs",
        "colab_type": "text"
      },
      "source": [
        "#For Loop"
      ]
    },
    {
      "cell_type": "markdown",
      "metadata": {
        "id": "1v68oldHI-vV",
        "colab_type": "text"
      },
      "source": [
        "###note burada scoop ve indent anlatılmalı"
      ]
    },
    {
      "cell_type": "code",
      "metadata": {
        "id": "PDfzOtbCyDTp",
        "colab_type": "code",
        "outputId": "ea1622ce-eaef-43d2-dd12-b7407e0bb50e",
        "colab": {
          "base_uri": "https://localhost:8080/",
          "height": 119
        }
      },
      "source": [
        "for x in range(0,11,2):\n",
        "  print(x)"
      ],
      "execution_count": 0,
      "outputs": [
        {
          "output_type": "stream",
          "text": [
            "0\n",
            "2\n",
            "4\n",
            "6\n",
            "8\n",
            "10\n"
          ],
          "name": "stdout"
        }
      ]
    },
    {
      "cell_type": "markdown",
      "metadata": {
        "id": "7pe1H70lwUSU",
        "colab_type": "text"
      },
      "source": [
        "##List"
      ]
    },
    {
      "cell_type": "code",
      "metadata": {
        "id": "1NzKB6UGs-yG",
        "colab_type": "code",
        "colab": {}
      },
      "source": [
        "#sayi_listesi = []\n",
        "sayi_listesi = list()\n"
      ],
      "execution_count": 0,
      "outputs": []
    },
    {
      "cell_type": "code",
      "metadata": {
        "id": "LjZ_BefUzDNe",
        "colab_type": "code",
        "colab": {}
      },
      "source": [
        "sayi_listesi.append(1)\n",
        "sayi_listesi.append(2)\n",
        "sayi_listesi.append(3)"
      ],
      "execution_count": 0,
      "outputs": []
    },
    {
      "cell_type": "code",
      "metadata": {
        "id": "TMJ9OqUPy9na",
        "colab_type": "code",
        "outputId": "9c0ae925-6eb3-4b36-9286-0c43d3c83cb7",
        "colab": {
          "base_uri": "https://localhost:8080/",
          "height": 34
        }
      },
      "source": [
        "sayi_listesi"
      ],
      "execution_count": 0,
      "outputs": [
        {
          "output_type": "execute_result",
          "data": {
            "text/plain": [
              "[1, 2, 3]"
            ]
          },
          "metadata": {
            "tags": []
          },
          "execution_count": 46
        }
      ]
    },
    {
      "cell_type": "markdown",
      "metadata": {
        "id": "kxfoVYQZzSca",
        "colab_type": "text"
      },
      "source": [
        "##Queue and Stack\n",
        "\n",
        "sıra ve yığın örnekleri  - first in first out, fork"
      ]
    },
    {
      "cell_type": "markdown",
      "metadata": {
        "id": "BHtXpqsS0ObH",
        "colab_type": "text"
      },
      "source": [
        "##stack"
      ]
    },
    {
      "cell_type": "code",
      "metadata": {
        "id": "acMx6unIzRha",
        "colab_type": "code",
        "outputId": "63eafca5-5c2c-47cf-87ef-4151d8bea740",
        "colab": {
          "base_uri": "https://localhost:8080/",
          "height": 34
        }
      },
      "source": [
        "sayi_listesi.pop()"
      ],
      "execution_count": 0,
      "outputs": [
        {
          "output_type": "execute_result",
          "data": {
            "text/plain": [
              "3"
            ]
          },
          "metadata": {
            "tags": []
          },
          "execution_count": 48
        }
      ]
    },
    {
      "cell_type": "code",
      "metadata": {
        "id": "oEjDeIk80DvL",
        "colab_type": "code",
        "outputId": "b20db481-8720-4852-c40c-e4c0bb6ff48d",
        "colab": {
          "base_uri": "https://localhost:8080/",
          "height": 34
        }
      },
      "source": [
        "sayi_listesi"
      ],
      "execution_count": 0,
      "outputs": [
        {
          "output_type": "execute_result",
          "data": {
            "text/plain": [
              "[1, 2]"
            ]
          },
          "metadata": {
            "tags": []
          },
          "execution_count": 49
        }
      ]
    },
    {
      "cell_type": "code",
      "metadata": {
        "id": "ODPAu6IA0Gpj",
        "colab_type": "code",
        "outputId": "0d833634-22ec-4862-bc33-b51c56aaeeca",
        "colab": {
          "base_uri": "https://localhost:8080/",
          "height": 34
        }
      },
      "source": [
        "sayi_listesi.pop()"
      ],
      "execution_count": 0,
      "outputs": [
        {
          "output_type": "execute_result",
          "data": {
            "text/plain": [
              "2"
            ]
          },
          "metadata": {
            "tags": []
          },
          "execution_count": 50
        }
      ]
    },
    {
      "cell_type": "code",
      "metadata": {
        "id": "V6thhPuU0KmD",
        "colab_type": "code",
        "outputId": "d1b8a272-6d45-4e2e-fb87-6e73bdf06dad",
        "colab": {
          "base_uri": "https://localhost:8080/",
          "height": 34
        }
      },
      "source": [
        "sayi_listesi"
      ],
      "execution_count": 0,
      "outputs": [
        {
          "output_type": "execute_result",
          "data": {
            "text/plain": [
              "[1]"
            ]
          },
          "metadata": {
            "tags": []
          },
          "execution_count": 51
        }
      ]
    },
    {
      "cell_type": "markdown",
      "metadata": {
        "id": "6F3Qr0Iz0QMZ",
        "colab_type": "text"
      },
      "source": [
        "##Queue"
      ]
    },
    {
      "cell_type": "code",
      "metadata": {
        "id": "Flh56jMt0SXD",
        "colab_type": "code",
        "colab": {}
      },
      "source": [
        "sira_listesi = [1,2,3,4,5,6,7,8,9,10]"
      ],
      "execution_count": 0,
      "outputs": []
    },
    {
      "cell_type": "code",
      "metadata": {
        "id": "hO0l1zSK0ahe",
        "colab_type": "code",
        "outputId": "6ef9c275-5088-4887-cea7-f2612789a055",
        "colab": {
          "base_uri": "https://localhost:8080/",
          "height": 34
        }
      },
      "source": [
        "sira_listesi"
      ],
      "execution_count": 0,
      "outputs": [
        {
          "output_type": "execute_result",
          "data": {
            "text/plain": [
              "[1, 2, 3, 4, 5, 6, 7, 8, 9, 10]"
            ]
          },
          "metadata": {
            "tags": []
          },
          "execution_count": 60
        }
      ]
    },
    {
      "cell_type": "code",
      "metadata": {
        "id": "ZHTBUmup0zgB",
        "colab_type": "code",
        "outputId": "e97d04a8-88fa-472e-886d-e2c2a7427ee7",
        "colab": {
          "base_uri": "https://localhost:8080/",
          "height": 187
        }
      },
      "source": [
        "for x in range(len(sira_listesi)):\n",
        "  print(sira_listesi.pop(0))"
      ],
      "execution_count": 0,
      "outputs": [
        {
          "output_type": "stream",
          "text": [
            "1\n",
            "2\n",
            "3\n",
            "4\n",
            "5\n",
            "6\n",
            "7\n",
            "8\n",
            "9\n",
            "10\n"
          ],
          "name": "stdout"
        }
      ]
    },
    {
      "cell_type": "code",
      "metadata": {
        "id": "kb54xWrJ1CPi",
        "colab_type": "code",
        "outputId": "eed639f9-21bd-4697-edd3-dba1df002c4e",
        "colab": {
          "base_uri": "https://localhost:8080/",
          "height": 34
        }
      },
      "source": [
        "print(sira_listesi)"
      ],
      "execution_count": 0,
      "outputs": [
        {
          "output_type": "stream",
          "text": [
            "[]\n"
          ],
          "name": "stdout"
        }
      ]
    },
    {
      "cell_type": "markdown",
      "metadata": {
        "id": "a47MMdOJwbO1",
        "colab_type": "text"
      },
      "source": [
        "#Porblem Solving"
      ]
    },
    {
      "cell_type": "markdown",
      "metadata": {
        "id": "FW226al43S5M",
        "colab_type": "text"
      },
      "source": [
        "If we list all the natural numbers **below 10** that are multiples of 3 or 5, we get 3, 5, 6 and 9. The **sum** of these multiples is 23.\n",
        "\n",
        "Find the sum of all the multiples of 3 or 5 below 1000."
      ]
    },
    {
      "cell_type": "code",
      "metadata": {
        "id": "jWkiDkzJsjLC",
        "colab_type": "code",
        "outputId": "4db7dcfd-e06c-47cf-da6c-9a639e378394",
        "colab": {
          "base_uri": "https://localhost:8080/",
          "height": 34
        }
      },
      "source": [
        "target = 10\n",
        "sum_result = 0\n",
        "\n",
        "for x in range(1000):\n",
        "  if x % 3 == 0 or x % 5 == 0:\n",
        "    sum_result = sum_result + x\n",
        "print(sum_result)"
      ],
      "execution_count": 0,
      "outputs": [
        {
          "output_type": "stream",
          "text": [
            "233168\n"
          ],
          "name": "stdout"
        }
      ]
    },
    {
      "cell_type": "markdown",
      "metadata": {
        "id": "Qvod1-1A3Oau",
        "colab_type": "text"
      },
      "source": [
        "Each new term in the Fibonacci sequence is generated by adding the previous two terms. By starting with 1 and 2, the **first 10 terms** will be:\n",
        "\n",
        "1, 2, 3, 5, 8, 13, 21, 34, 55, 89, ...\n",
        "\n",
        "By considering the terms in the Fibonacci sequence whose values do not exceed four million, find the **sum** of the even-valued terms."
      ]
    },
    {
      "cell_type": "code",
      "metadata": {
        "id": "bXIxuU1T6eLT",
        "colab_type": "code",
        "colab": {}
      },
      "source": [
        "from tqdm import tqdm_notebook"
      ],
      "execution_count": 0,
      "outputs": []
    },
    {
      "cell_type": "code",
      "metadata": {
        "id": "ydWpWYqI3Nt5",
        "colab_type": "code",
        "colab": {}
      },
      "source": [
        "target = 4000000\n",
        "sum_result = 0\n",
        "\n",
        "#fibonacci serisi başlangıç değerleri\n",
        "a = 0\n",
        "b = 1\n",
        "c = 1 # aslında c = a + b"
      ],
      "execution_count": 0,
      "outputs": []
    },
    {
      "cell_type": "code",
      "metadata": {
        "id": "ia_-Pa-r3vzn",
        "colab_type": "code",
        "outputId": "8f0f7254-6f52-477d-d287-a8e6c47b163a",
        "colab": {
          "base_uri": "https://localhost:8080/",
          "height": 34
        }
      },
      "source": [
        "while(c < target):\n",
        "  #eğer serideki sayı çift ise toplama ekle\n",
        "  if b % 2 == 0:\n",
        "    sum_result = sum_result + b\n",
        "  \n",
        "  #serideki diğer sayıyı bul\n",
        "  #kural nedir, ilerde bi sayı varsa bu sayı serideki önceki iki sayının toplamıdır.\n",
        "  c = a + b\n",
        "  a = b\n",
        "  b = c\n",
        "\n",
        "sum_result\n"
      ],
      "execution_count": 0,
      "outputs": [
        {
          "output_type": "execute_result",
          "data": {
            "text/plain": [
              "4613732"
            ]
          },
          "metadata": {
            "tags": []
          },
          "execution_count": 14
        }
      ]
    },
    {
      "cell_type": "code",
      "metadata": {
        "id": "BZv0i7Ae6Mog",
        "colab_type": "code",
        "colab": {}
      },
      "source": [
        ""
      ],
      "execution_count": 0,
      "outputs": []
    }
  ]
}