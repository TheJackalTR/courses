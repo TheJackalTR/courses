{
  "nbformat": 4,
  "nbformat_minor": 0,
  "metadata": {
    "colab": {
      "name": "Copy of PySession1_CourseNotes.ipynb",
      "provenance": [],
      "collapsed_sections": [
        "5En7qN9WUNwp",
        "5PO8X7hKarcf",
        "b-jDxF6UKFQm",
        "QNE2DQp6HM8f",
        "nNiIGOyYey0V",
        "t9jBfjWBfBAH"
      ]
    },
    "kernelspec": {
      "name": "python3",
      "display_name": "Python 3"
    }
  },
  "cells": [
    {
      "cell_type": "markdown",
      "metadata": {
        "id": "OE7Mj-sqWM9X",
        "colab_type": "text"
      },
      "source": [
        "#Python Session #1 - Python for Everyone\n"
      ]
    },
    {
      "cell_type": "markdown",
      "metadata": {
        "id": "tr6vCj9VWTTx",
        "colab_type": "text"
      },
      "source": [
        "##Introduction and Setting Working Environment"
      ]
    },
    {
      "cell_type": "markdown",
      "metadata": {
        "id": "5En7qN9WUNwp",
        "colab_type": "text"
      },
      "source": [
        "\n",
        "Colab Notebooks. Colaboratory is a Google research project created to help disseminate machine learning education and research. It's a Jupyter notebook environment that requires no setup to use and runs entirely in the cloud.\n",
        "\n",
        "###**Go to link below and create a new notebook on colab.**\n",
        "\n",
        "##https://colab.research.google.com"
      ]
    },
    {
      "cell_type": "markdown",
      "metadata": {
        "id": "5PO8X7hKarcf",
        "colab_type": "text"
      },
      "source": [
        "#Title"
      ]
    },
    {
      "cell_type": "markdown",
      "metadata": {
        "id": "hYDXWglwUsJC",
        "colab_type": "text"
      },
      "source": [
        "#Text Block Usage"
      ]
    },
    {
      "cell_type": "markdown",
      "metadata": {
        "id": "vq7mNaVNWIwg",
        "colab_type": "text"
      },
      "source": [
        "Write your text here, use hashtag # for headings."
      ]
    },
    {
      "cell_type": "markdown",
      "metadata": {
        "id": "T6uk0njbUV4F",
        "colab_type": "text"
      },
      "source": [
        "#Code Block Usage\n",
        "Getting an output like -> **Hello Universe**"
      ]
    },
    {
      "cell_type": "code",
      "metadata": {
        "id": "Cv2TOP2wUb2s",
        "colab_type": "code",
        "outputId": "7c244f8a-7e24-4876-8dce-61cfb673ca67",
        "colab": {
          "base_uri": "https://localhost:8080/",
          "height": 34
        }
      },
      "source": [
        "print(\"Hello Universe!\")"
      ],
      "execution_count": 1,
      "outputs": [
        {
          "output_type": "stream",
          "text": [
            "Hello Universe!\n"
          ],
          "name": "stdout"
        }
      ]
    },
    {
      "cell_type": "code",
      "metadata": {
        "id": "6ZO84FveWmEu",
        "colab_type": "code",
        "outputId": "e23f456c-2e97-4106-9436-0792df17f1b4",
        "colab": {
          "base_uri": "https://localhost:8080/",
          "height": 34
        }
      },
      "source": [
        "3 + 5\n",
        "\n",
        "5 > 3\n",
        "\n",
        "10 // 3"
      ],
      "execution_count": 2,
      "outputs": [
        {
          "output_type": "execute_result",
          "data": {
            "text/plain": [
              "3"
            ]
          },
          "metadata": {
            "tags": []
          },
          "execution_count": 2
        }
      ]
    },
    {
      "cell_type": "markdown",
      "metadata": {
        "id": "N4lY5RdQjmYF",
        "colab_type": "text"
      },
      "source": [
        "#Type of Paranthesis - 101 :)"
      ]
    },
    {
      "cell_type": "markdown",
      "metadata": {
        "id": "b-jDxF6UKFQm",
        "colab_type": "text"
      },
      "source": [
        "##( ) -> Paranthesis<br>\n",
        "##[ ] -> Square Brackets<br>\n",
        "##{ } -> Curly Brackets<br>"
      ]
    },
    {
      "cell_type": "markdown",
      "metadata": {
        "id": "CG5BuU59LIEu",
        "colab_type": "text"
      },
      "source": [
        "#NUMBERS&ARITHMETHIC OPEARTORS"
      ]
    },
    {
      "cell_type": "code",
      "metadata": {
        "id": "cO9t9iCJiYpz",
        "colab_type": "code",
        "outputId": "8d0bb8d1-12f9-4310-97c1-e656417bdc3f",
        "colab": {
          "base_uri": "https://localhost:8080/",
          "height": 85
        }
      },
      "source": [
        "ilkSayi = 5\n",
        "ikinciSayi = 3\n",
        "\n",
        "print(\"Yer değiştirme işleminden önce\")\n",
        "print(ilkSayi,ikinciSayi)\n",
        "\n",
        "(ilkSayi,ikinciSayi) = (ikinciSayi,ilkSayi) #Swap Operation\n",
        "print(\"Yer değiştirme işleminden sonra\")\n",
        "print(ilkSayi,ikinciSayi)"
      ],
      "execution_count": 3,
      "outputs": [
        {
          "output_type": "stream",
          "text": [
            "Yer değiştirme işleminden önce\n",
            "5 3\n",
            "Yer değiştirme işleminden sonra\n",
            "3 5\n"
          ],
          "name": "stdout"
        }
      ]
    },
    {
      "cell_type": "code",
      "metadata": {
        "id": "9wh8ily7ijrv",
        "colab_type": "code",
        "outputId": "1f01b776-859b-4715-c9e8-b19094c8f810",
        "colab": {
          "base_uri": "https://localhost:8080/",
          "height": 68
        }
      },
      "source": [
        "değişken = float(input(\"Yaşınız:\"))\n",
        "print(değişken)\n",
        "type(değişken)"
      ],
      "execution_count": 4,
      "outputs": [
        {
          "output_type": "stream",
          "text": [
            "Yaşınız:24\n",
            "24.0\n"
          ],
          "name": "stdout"
        },
        {
          "output_type": "execute_result",
          "data": {
            "text/plain": [
              "float"
            ]
          },
          "metadata": {
            "tags": []
          },
          "execution_count": 4
        }
      ]
    },
    {
      "cell_type": "code",
      "metadata": {
        "id": "AowK_FMLjbaP",
        "colab_type": "code",
        "outputId": "09a4445e-c924-41db-c3fa-54bdfd5dbb5e",
        "colab": {
          "base_uri": "https://localhost:8080/",
          "height": 153
        }
      },
      "source": [
        "#Increasing the value of a variable\n",
        "\n",
        "a = int(input(\"Bir sayı giriniz:\"))\n",
        "print(\"Before the operation\")\n",
        "print(a)\n",
        "print(\"After the operation\")\n",
        "a = a + 1\n",
        "print(a)\n",
        "\n",
        "#Or practically you can do it like\n",
        "a += 1 #you can use -,*,**,/,//,% operators too\n",
        "print(\"Practical increasing\") \n",
        "print(a)\n",
        "a += 2\n",
        "print(a)"
      ],
      "execution_count": 5,
      "outputs": [
        {
          "output_type": "stream",
          "text": [
            "Bir sayı giriniz:21\n",
            "Before the operation\n",
            "21\n",
            "After the operation\n",
            "22\n",
            "Practical increasing\n",
            "23\n",
            "25\n"
          ],
          "name": "stdout"
        }
      ]
    },
    {
      "cell_type": "code",
      "metadata": {
        "id": "OzklHC2jrTez",
        "colab_type": "code",
        "outputId": "b49486fe-5d0e-458b-ca81-eae11923da62",
        "colab": {
          "base_uri": "https://localhost:8080/",
          "height": 34
        }
      },
      "source": [
        "8#you can use \n",
        "#int() to convert float to integer or \n",
        "a = 3.6\n",
        "int(a)\n",
        "\n",
        "#float() to convert integer to float\n",
        "b = 1000\n",
        "float(b)"
      ],
      "execution_count": 6,
      "outputs": [
        {
          "output_type": "execute_result",
          "data": {
            "text/plain": [
              "1000.0"
            ]
          },
          "metadata": {
            "tags": []
          },
          "execution_count": 6
        }
      ]
    },
    {
      "cell_type": "code",
      "metadata": {
        "id": "OJGFMxl4kXCX",
        "colab_type": "code",
        "outputId": "8d2f83b5-b16e-460e-cf43-d5067a5745d4",
        "colab": {
          "base_uri": "https://localhost:8080/",
          "height": 34
        }
      },
      "source": [
        "10 / 2"
      ],
      "execution_count": 7,
      "outputs": [
        {
          "output_type": "execute_result",
          "data": {
            "text/plain": [
              "5.0"
            ]
          },
          "metadata": {
            "tags": []
          },
          "execution_count": 7
        }
      ]
    },
    {
      "cell_type": "markdown",
      "metadata": {
        "id": "oeJDv56oLewb",
        "colab_type": "text"
      },
      "source": [
        "When you want to do arithmethic operations, these are arithmethic operators in Python\n",
        "\n",
        "\n",
        "\n",
        "*   Addition Operator -> **+**\n",
        "*   Subtraction Operator -> **-**\n",
        "*   Multiplication Operator -> **\\***\n",
        "*   Divison Operator -> **/**\n",
        "*   Integer Divison Operator -> **//**\n",
        "*   Remainder Operator -> **%**\n",
        "*   Power Operator -> **\\*\\***\n"
      ]
    },
    {
      "cell_type": "code",
      "metadata": {
        "id": "FR6NLWFZq4Q4",
        "colab_type": "code",
        "colab": {}
      },
      "source": [
        "a = 5\n",
        "b = 3\n",
        "c = 0"
      ],
      "execution_count": 0,
      "outputs": []
    },
    {
      "cell_type": "code",
      "metadata": {
        "id": "ev2-p2rjq_2-",
        "colab_type": "code",
        "colab": {}
      },
      "source": [
        "c = a\n",
        "a = b\n",
        "b = c"
      ],
      "execution_count": 0,
      "outputs": []
    },
    {
      "cell_type": "code",
      "metadata": {
        "id": "lThh53shrU7i",
        "colab_type": "code",
        "outputId": "a7c140de-f0e4-475b-9e53-8e5e3638399b",
        "colab": {
          "base_uri": "https://localhost:8080/",
          "height": 34
        }
      },
      "source": [
        "print(a,b)"
      ],
      "execution_count": 10,
      "outputs": [
        {
          "output_type": "stream",
          "text": [
            "3 5\n"
          ],
          "name": "stdout"
        }
      ]
    },
    {
      "cell_type": "code",
      "metadata": {
        "id": "9PkrC1AXrh-0",
        "colab_type": "code",
        "colab": {}
      },
      "source": [
        "a,b = b,a"
      ],
      "execution_count": 0,
      "outputs": []
    },
    {
      "cell_type": "code",
      "metadata": {
        "id": "DFkNvl_mrkEN",
        "colab_type": "code",
        "outputId": "1c4e5b1f-a09d-4705-f4d0-ea22399831ba",
        "colab": {
          "base_uri": "https://localhost:8080/",
          "height": 34
        }
      },
      "source": [
        "print(a,b)"
      ],
      "execution_count": 12,
      "outputs": [
        {
          "output_type": "stream",
          "text": [
            "5 3\n"
          ],
          "name": "stdout"
        }
      ]
    },
    {
      "cell_type": "code",
      "metadata": {
        "id": "_xpFSdlTkmc1",
        "colab_type": "code",
        "outputId": "311e2231-c592-4786-dee6-6127598fe477",
        "colab": {
          "base_uri": "https://localhost:8080/",
          "height": 34
        }
      },
      "source": [
        "int(16 ** 0.5)"
      ],
      "execution_count": 13,
      "outputs": [
        {
          "output_type": "execute_result",
          "data": {
            "text/plain": [
              "4"
            ]
          },
          "metadata": {
            "tags": []
          },
          "execution_count": 13
        }
      ]
    },
    {
      "cell_type": "code",
      "metadata": {
        "id": "7GUd1fZkGc_4",
        "colab_type": "code",
        "outputId": "42180330-45ef-4d04-e18c-521885923744",
        "colab": {
          "base_uri": "https://localhost:8080/",
          "height": 34
        }
      },
      "source": [
        "#Summation\n",
        "\n",
        "a = 14 #integer\n",
        "b = 15 #integer\n",
        "\n",
        "print(a + b)"
      ],
      "execution_count": 14,
      "outputs": [
        {
          "output_type": "stream",
          "text": [
            "29\n"
          ],
          "name": "stdout"
        }
      ]
    },
    {
      "cell_type": "code",
      "metadata": {
        "id": "BUlR4oudK0D7",
        "colab_type": "code",
        "outputId": "9fee2daa-84c3-476e-afe3-ed4666e33064",
        "colab": {
          "base_uri": "https://localhost:8080/",
          "height": 34
        }
      },
      "source": [
        "i = 3.1 #Float\n",
        "j = 4.8 #Float\n",
        "\n",
        "print(i + j)"
      ],
      "execution_count": 15,
      "outputs": [
        {
          "output_type": "stream",
          "text": [
            "7.9\n"
          ],
          "name": "stdout"
        }
      ]
    },
    {
      "cell_type": "markdown",
      "metadata": {
        "id": "617EI6HFM3Bz",
        "colab_type": "text"
      },
      "source": [
        "When you want to substract two or more numbers, you can simply use **-** subtraction operator"
      ]
    },
    {
      "cell_type": "code",
      "metadata": {
        "id": "8qHHCycYLFBV",
        "colab_type": "code",
        "outputId": "aaefd80e-2816-4c25-af3f-cf1b3efd5d28",
        "colab": {
          "base_uri": "https://localhost:8080/",
          "height": 34
        }
      },
      "source": [
        "#Subtraction\n",
        "\n",
        "a = 28\n",
        "b = 35\n",
        "c = 40\n",
        "\n",
        "print(a - b - c)"
      ],
      "execution_count": 16,
      "outputs": [
        {
          "output_type": "stream",
          "text": [
            "-47\n"
          ],
          "name": "stdout"
        }
      ]
    },
    {
      "cell_type": "code",
      "metadata": {
        "id": "x8uwKYjgN_6Y",
        "colab_type": "code",
        "outputId": "3fd0ca72-77e3-4f18-d135-ec5995e0012a",
        "colab": {
          "base_uri": "https://localhost:8080/",
          "height": 34
        }
      },
      "source": [
        "t = -1\n",
        "y = 5\n",
        "print(t-y)"
      ],
      "execution_count": 17,
      "outputs": [
        {
          "output_type": "stream",
          "text": [
            "-6\n"
          ],
          "name": "stdout"
        }
      ]
    },
    {
      "cell_type": "code",
      "metadata": {
        "id": "brdHSJVuUKiy",
        "colab_type": "code",
        "outputId": "6b1285e2-f4e8-4368-ac6b-b58a7f7fa26d",
        "colab": {
          "base_uri": "https://localhost:8080/",
          "height": 34
        }
      },
      "source": [
        "k = 3.1\n",
        "l = 5.8\n",
        "\n",
        "print(k-l)"
      ],
      "execution_count": 18,
      "outputs": [
        {
          "output_type": "stream",
          "text": [
            "-2.6999999999999997\n"
          ],
          "name": "stdout"
        }
      ]
    },
    {
      "cell_type": "code",
      "metadata": {
        "id": "YNMaBsj3UVO4",
        "colab_type": "code",
        "outputId": "ae051763-10e0-439a-a46e-75ef43469b8d",
        "colab": {
          "base_uri": "https://localhost:8080/",
          "height": 34
        }
      },
      "source": [
        "#Multiplication\n",
        "\n",
        "a = 4\n",
        "b = 5\n",
        "\n",
        "print(a*b)"
      ],
      "execution_count": 19,
      "outputs": [
        {
          "output_type": "stream",
          "text": [
            "20\n"
          ],
          "name": "stdout"
        }
      ]
    },
    {
      "cell_type": "code",
      "metadata": {
        "id": "qyNytwFYUlyU",
        "colab_type": "code",
        "outputId": "c2e9307b-57d3-434b-cdf7-d6d8510fe9ca",
        "colab": {
          "base_uri": "https://localhost:8080/",
          "height": 34
        }
      },
      "source": [
        "i = 3.14\n",
        "j = 4.5\n",
        "\n",
        "print(i*j)"
      ],
      "execution_count": 20,
      "outputs": [
        {
          "output_type": "stream",
          "text": [
            "14.13\n"
          ],
          "name": "stdout"
        }
      ]
    },
    {
      "cell_type": "code",
      "metadata": {
        "id": "lWuzl2WMVJ3e",
        "colab_type": "code",
        "outputId": "607d1097-fd6b-44ed-c7db-e96d7e706b89",
        "colab": {
          "base_uri": "https://localhost:8080/",
          "height": 34
        }
      },
      "source": [
        "a = 3\n",
        "b = 4\n",
        "c = 5\n",
        "\n",
        "print(a*b*c)"
      ],
      "execution_count": 21,
      "outputs": [
        {
          "output_type": "stream",
          "text": [
            "60\n"
          ],
          "name": "stdout"
        }
      ]
    },
    {
      "cell_type": "code",
      "metadata": {
        "id": "6SiWbFzHVEF1",
        "colab_type": "code",
        "outputId": "4ab96444-41ff-4753-e1fa-3b2abb325d9b",
        "colab": {
          "base_uri": "https://localhost:8080/",
          "height": 34
        }
      },
      "source": [
        "a = 3\n",
        "b = 3.14\n",
        "\n",
        "print(a*b)"
      ],
      "execution_count": 22,
      "outputs": [
        {
          "output_type": "stream",
          "text": [
            "9.42\n"
          ],
          "name": "stdout"
        }
      ]
    },
    {
      "cell_type": "code",
      "metadata": {
        "id": "TRnwMNLpV6CG",
        "colab_type": "code",
        "outputId": "a8d16f62-ed42-4a5a-d98e-690b1b802fec",
        "colab": {
          "base_uri": "https://localhost:8080/",
          "height": 34
        }
      },
      "source": [
        "#Division\n",
        "\n",
        "a = 4\n",
        "b = 2\n",
        "\n",
        "print(a / b)"
      ],
      "execution_count": 23,
      "outputs": [
        {
          "output_type": "stream",
          "text": [
            "2.0\n"
          ],
          "name": "stdout"
        }
      ]
    },
    {
      "cell_type": "code",
      "metadata": {
        "id": "P1mo-i8CWEDP",
        "colab_type": "code",
        "outputId": "16f40981-80ae-4149-a79e-5b5cd79811b7",
        "colab": {
          "base_uri": "https://localhost:8080/",
          "height": 34
        }
      },
      "source": [
        "i = 10\n",
        "j = 3\n",
        "\n",
        "print(i / j)"
      ],
      "execution_count": 24,
      "outputs": [
        {
          "output_type": "stream",
          "text": [
            "3.3333333333333335\n"
          ],
          "name": "stdout"
        }
      ]
    },
    {
      "cell_type": "code",
      "metadata": {
        "id": "kwXdtFZxWXQO",
        "colab_type": "code",
        "outputId": "e0aa41de-e171-4191-d76f-2ee35a5a8507",
        "colab": {
          "base_uri": "https://localhost:8080/",
          "height": 34
        }
      },
      "source": [
        "e = 22\n",
        "d = 6\n",
        "\n",
        "print(e / d)"
      ],
      "execution_count": 25,
      "outputs": [
        {
          "output_type": "stream",
          "text": [
            "3.6666666666666665\n"
          ],
          "name": "stdout"
        }
      ]
    },
    {
      "cell_type": "code",
      "metadata": {
        "id": "2QqMx21cWeMd",
        "colab_type": "code",
        "outputId": "5552041c-5ce8-4073-d291-5ee04ce31b8c",
        "colab": {
          "base_uri": "https://localhost:8080/",
          "height": 34
        }
      },
      "source": [
        "a = 4\n",
        "b = 2\n",
        "\n",
        "a // b"
      ],
      "execution_count": 26,
      "outputs": [
        {
          "output_type": "execute_result",
          "data": {
            "text/plain": [
              "2"
            ]
          },
          "metadata": {
            "tags": []
          },
          "execution_count": 26
        }
      ]
    },
    {
      "cell_type": "code",
      "metadata": {
        "id": "frOupbzGWvQ3",
        "colab_type": "code",
        "outputId": "4ad928d4-b68f-4025-bde3-1d8642d35c55",
        "colab": {
          "base_uri": "https://localhost:8080/",
          "height": 34
        }
      },
      "source": [
        "#Integer Divison\n",
        "i // j"
      ],
      "execution_count": 27,
      "outputs": [
        {
          "output_type": "execute_result",
          "data": {
            "text/plain": [
              "3"
            ]
          },
          "metadata": {
            "tags": []
          },
          "execution_count": 27
        }
      ]
    },
    {
      "cell_type": "code",
      "metadata": {
        "id": "HFd2d92dW0_4",
        "colab_type": "code",
        "outputId": "676a54a9-72e7-4a6e-89ba-0519f1ffd24c",
        "colab": {
          "base_uri": "https://localhost:8080/",
          "height": 34
        }
      },
      "source": [
        "e // d"
      ],
      "execution_count": 28,
      "outputs": [
        {
          "output_type": "execute_result",
          "data": {
            "text/plain": [
              "3"
            ]
          },
          "metadata": {
            "tags": []
          },
          "execution_count": 28
        }
      ]
    },
    {
      "cell_type": "code",
      "metadata": {
        "id": "hZJWuFjIW7YC",
        "colab_type": "code",
        "outputId": "9fd6c7ab-e303-49a6-f9b7-7f71a7e6114c",
        "colab": {
          "base_uri": "https://localhost:8080/",
          "height": 34
        }
      },
      "source": [
        "#Remainder\n",
        "\n",
        "a = 13\n",
        "b = 4\n",
        "\n",
        "print(a % b)"
      ],
      "execution_count": 29,
      "outputs": [
        {
          "output_type": "stream",
          "text": [
            "1\n"
          ],
          "name": "stdout"
        }
      ]
    },
    {
      "cell_type": "code",
      "metadata": {
        "id": "_YcW6rxzYX3s",
        "colab_type": "code",
        "outputId": "ba11b937-4ffa-42b0-aa6d-782d5465e1ed",
        "colab": {
          "base_uri": "https://localhost:8080/",
          "height": 34
        }
      },
      "source": [
        "#Power operator\n",
        "\n",
        "a = 4\n",
        "b = 3\n",
        "\n",
        "print(a ** b)"
      ],
      "execution_count": 30,
      "outputs": [
        {
          "output_type": "stream",
          "text": [
            "64\n"
          ],
          "name": "stdout"
        }
      ]
    },
    {
      "cell_type": "code",
      "metadata": {
        "id": "q92zQhbnZGgd",
        "colab_type": "code",
        "colab": {
          "base_uri": "https://localhost:8080/",
          "height": 34
        },
        "outputId": "65a854e8-48c9-40f3-8ea9-778583178b4f"
      },
      "source": [
        "#Squareroot\n",
        "\n",
        "print(64 ** 0.5)"
      ],
      "execution_count": 31,
      "outputs": [
        {
          "output_type": "stream",
          "text": [
            "8.0\n"
          ],
          "name": "stdout"
        }
      ]
    },
    {
      "cell_type": "markdown",
      "metadata": {
        "id": "t4Sr86iTcPwr",
        "colab_type": "text"
      },
      "source": [
        "## Using operators together and operation priority"
      ]
    },
    {
      "cell_type": "markdown",
      "metadata": {
        "id": "28_dPA02d8Y3",
        "colab_type": "text"
      },
      "source": [
        "1.   processes inside paranthesis\n",
        "2.   Multiplication and Divison\n",
        "3.   Summation and Divison\n",
        "\n",
        "**operations are evaluated from left to right**\n",
        "\n"
      ]
    },
    {
      "cell_type": "code",
      "metadata": {
        "id": "51syjJ6hfv_t",
        "colab_type": "code",
        "outputId": "f2b57d97-7531-40c1-83ee-fe21dd13707c",
        "colab": {
          "base_uri": "https://localhost:8080/",
          "height": 34
        }
      },
      "source": [
        "(8 + 4) * 3 / 2 - 18"
      ],
      "execution_count": 32,
      "outputs": [
        {
          "output_type": "execute_result",
          "data": {
            "text/plain": [
              "0.0"
            ]
          },
          "metadata": {
            "tags": []
          },
          "execution_count": 32
        }
      ]
    },
    {
      "cell_type": "code",
      "metadata": {
        "id": "fBKbClN7hSWZ",
        "colab_type": "code",
        "outputId": "34a9a3bc-304c-47ec-a7da-d4f3645d5aa1",
        "colab": {
          "base_uri": "https://localhost:8080/",
          "height": 34
        }
      },
      "source": [
        "8 + ((4 * 3) / 2) - 18"
      ],
      "execution_count": 33,
      "outputs": [
        {
          "output_type": "execute_result",
          "data": {
            "text/plain": [
              "-4.0"
            ]
          },
          "metadata": {
            "tags": []
          },
          "execution_count": 33
        }
      ]
    },
    {
      "cell_type": "markdown",
      "metadata": {
        "id": "W-PVDvn0XCTW",
        "colab_type": "text"
      },
      "source": [
        "##Strings"
      ]
    },
    {
      "cell_type": "code",
      "metadata": {
        "id": "48hlJx8EXHMU",
        "colab_type": "code",
        "outputId": "1c5cbb26-e77c-4328-bf40-76364de9a2db",
        "colab": {
          "base_uri": "https://localhost:8080/",
          "height": 34
        }
      },
      "source": [
        "\"Informatics share knowledge to everyone 😊\""
      ],
      "execution_count": 34,
      "outputs": [
        {
          "output_type": "execute_result",
          "data": {
            "text/plain": [
              "'Informatics share knowledge to everyone 😊'"
            ]
          },
          "metadata": {
            "tags": []
          },
          "execution_count": 34
        }
      ]
    },
    {
      "cell_type": "code",
      "metadata": {
        "id": "Kqjy5cA1XJGB",
        "colab_type": "code",
        "outputId": "6eb80e44-9f98-4e36-c227-190c8d794b18",
        "colab": {
          "base_uri": "https://localhost:8080/",
          "height": 34
        }
      },
      "source": [
        "#değişkene string atama\n",
        "message = \"R YU in 💻 ?\"\n",
        "\n",
        "print(message)"
      ],
      "execution_count": 35,
      "outputs": [
        {
          "output_type": "stream",
          "text": [
            "R YU in 💻 ?\n"
          ],
          "name": "stdout"
        }
      ]
    },
    {
      "cell_type": "code",
      "metadata": {
        "id": "iv-1euYuXKyr",
        "colab_type": "code",
        "outputId": "cdace788-303c-4c87-ec8f-3cd1ee427eac",
        "colab": {
          "base_uri": "https://localhost:8080/",
          "height": 51
        }
      },
      "source": [
        "#metin birleştirme\n",
        "text1 = \"Yeditepe\"\n",
        "text2 = \"University\"\n",
        "\n",
        "print(text1 + text2)\n",
        "print(text1,text2)"
      ],
      "execution_count": 36,
      "outputs": [
        {
          "output_type": "stream",
          "text": [
            "YeditepeUniversity\n",
            "Yeditepe University\n"
          ],
          "name": "stdout"
        }
      ]
    },
    {
      "cell_type": "code",
      "metadata": {
        "id": "ojjaS7y2XXrB",
        "colab_type": "code",
        "outputId": "0cc0305c-daab-4ee7-8280-ecef552c42bc",
        "colab": {
          "base_uri": "https://localhost:8080/",
          "height": 51
        }
      },
      "source": [
        "# len() method returns the length of the object, in that case we used on string variable\n",
        "word = 'supercalifragilisticexpialidocious'\n",
        "\n",
        "print(len(word))\n",
        "print(type(len(word)))"
      ],
      "execution_count": 37,
      "outputs": [
        {
          "output_type": "stream",
          "text": [
            "34\n",
            "<class 'int'>\n"
          ],
          "name": "stdout"
        }
      ]
    },
    {
      "cell_type": "markdown",
      "metadata": {
        "id": "ntcBnILmGHhO",
        "colab_type": "text"
      },
      "source": [
        "# Conditional Statements\n"
      ]
    },
    {
      "cell_type": "markdown",
      "metadata": {
        "id": "ssoEhzDnJ_Oz",
        "colab_type": "text"
      },
      "source": [
        "![alt text](https://jenwlee.files.wordpress.com/2016/11/condition.jpg?w=663)"
      ]
    },
    {
      "cell_type": "code",
      "metadata": {
        "id": "cyOJXSWpXkja",
        "colab_type": "code",
        "outputId": "9eaefd29-0515-4429-aa7e-64b3b049b8e6",
        "colab": {
          "base_uri": "https://localhost:8080/",
          "height": 34
        }
      },
      "source": [
        "#checking the number is bigger than expected value\n",
        "if (100 < 500):\n",
        "  print(\"It is bigger\")\n",
        "else:\n",
        "  print(\"It is not :/\")"
      ],
      "execution_count": 38,
      "outputs": [
        {
          "output_type": "stream",
          "text": [
            "It is bigger\n"
          ],
          "name": "stdout"
        }
      ]
    },
    {
      "cell_type": "code",
      "metadata": {
        "id": "ZvkDKu9jXuet",
        "colab_type": "code",
        "outputId": "432a9543-3e48-4293-cdd1-908b5745b7c6",
        "colab": {
          "base_uri": "https://localhost:8080/",
          "height": 34
        }
      },
      "source": [
        "#basit mantık sorguları\n",
        "10 == 10"
      ],
      "execution_count": 39,
      "outputs": [
        {
          "output_type": "execute_result",
          "data": {
            "text/plain": [
              "True"
            ]
          },
          "metadata": {
            "tags": []
          },
          "execution_count": 39
        }
      ]
    },
    {
      "cell_type": "code",
      "metadata": {
        "id": "EnKPUnvwX2gJ",
        "colab_type": "code",
        "outputId": "3922e4e0-542f-492d-ebc6-91ba14777126",
        "colab": {
          "base_uri": "https://localhost:8080/",
          "height": 34
        }
      },
      "source": [
        "1 != 2"
      ],
      "execution_count": 40,
      "outputs": [
        {
          "output_type": "execute_result",
          "data": {
            "text/plain": [
              "True"
            ]
          },
          "metadata": {
            "tags": []
          },
          "execution_count": 40
        }
      ]
    },
    {
      "cell_type": "code",
      "metadata": {
        "id": "2XU3vHEnn5l2",
        "colab_type": "code",
        "outputId": "5754b7b8-18d3-4c53-ce40-f43cc843442f",
        "colab": {
          "base_uri": "https://localhost:8080/",
          "height": 34
        }
      },
      "source": [
        "if(10 != 10):\n",
        "  print(\"Doğru olunca burası çalışıcak\")\n",
        "else:\n",
        "  print(\"yanlış olunca burası çalışıcak\")"
      ],
      "execution_count": 41,
      "outputs": [
        {
          "output_type": "stream",
          "text": [
            "yanlış olunca burası çalışıcak\n"
          ],
          "name": "stdout"
        }
      ]
    },
    {
      "cell_type": "markdown",
      "metadata": {
        "id": "o0Mh1nQn9ZIk",
        "colab_type": "text"
      },
      "source": [
        "<style>\n",
        "  .color{\n",
        "    color:red;\n",
        "  }\n",
        "</style>\n",
        "\n",
        "<div>\n",
        "<table align=\"left\">\n",
        "  <caption><b>AND</b></caption>\n",
        "  <th>X</th>\n",
        "  <th>Y</th>\n",
        "  <th align=\"center\">Result</th>\n",
        " <tr>\n",
        "   <td>1</td>\n",
        "   <td class=\"color\">1</td>\n",
        "   <td align=\"center\">1</td>\n",
        "  </tr>\n",
        " <tr>\n",
        "   <td>1</td>\n",
        "   <td>0</td>\n",
        "   <td align=\"center\">0</td>\n",
        "</tr>\n",
        "<tr>\n",
        "   <td>0</td>\n",
        "   <td>1</td>\n",
        "   <td align=\"center\">0</td>\n",
        "</tr>\n",
        "<tr>\n",
        "   <td>0</td>\n",
        "   <td>0</td>\n",
        "   <td align=\"center\">0</td>\n",
        "</tr>\n",
        "</table>\n",
        "\n",
        "<table align=\"center\">\n",
        "  <caption><b>OR</b></caption>\n",
        "  <th>X</th>\n",
        "  <th>Y</th>\n",
        "  <th align=\"center\">Result</th>\n",
        " <tr>\n",
        "   <td>1</td>\n",
        "   <td>1</td>\n",
        "   <td align=\"center\">1</td>\n",
        " </tr>\n",
        " <tr>\n",
        "   <td>1</td>\n",
        "   <td>0</td>\n",
        "   <td align=\"center\">1</td>\n",
        " </tr>\n",
        "  \n",
        " <tr>\n",
        "   <td>0</td>\n",
        "   <td>1</td>\n",
        "   <td align=\"center\">1</td>\n",
        " </tr>\n",
        "  \n",
        " <tr>\n",
        "   <td>0</td>\n",
        "   <td>0</td>\n",
        "   <td align=\"center\">0</td>\n",
        " </tr>\n",
        "</table>\n",
        "\n",
        "</div>\n",
        "\n"
      ]
    },
    {
      "cell_type": "code",
      "metadata": {
        "id": "P4oQUpk790Ik",
        "colab_type": "code",
        "outputId": "03804890-ab4d-4895-c1f7-8431b0f0b89e",
        "colab": {
          "base_uri": "https://localhost:8080/",
          "height": 34
        }
      },
      "source": [
        "a = 5 < 2\n",
        "if a:\n",
        "  print(\"Doğru ise burayı çalıştır: {}\".format(a))\n",
        "else:\n",
        "  print(\"Yanlış ise burayı çalıştır: {}\".format(a))"
      ],
      "execution_count": 42,
      "outputs": [
        {
          "output_type": "stream",
          "text": [
            "Yanlış ise burayı çalıştır: False\n"
          ],
          "name": "stdout"
        }
      ]
    },
    {
      "cell_type": "markdown",
      "metadata": {
        "id": "0DKhEuwwGbqG",
        "colab_type": "text"
      },
      "source": [
        "# List, Tuple"
      ]
    },
    {
      "cell_type": "code",
      "metadata": {
        "id": "ggDM4fb5IxIr",
        "colab_type": "code",
        "outputId": "f2e54ee0-d1f7-4759-ca2f-acc194f9e9aa",
        "colab": {
          "base_uri": "https://localhost:8080/",
          "height": 34
        }
      },
      "source": [
        "a = [\"Informatics\",1,2,3,1996,True]\n",
        "\n",
        "print(type(a))"
      ],
      "execution_count": 43,
      "outputs": [
        {
          "output_type": "stream",
          "text": [
            "<class 'list'>\n"
          ],
          "name": "stdout"
        }
      ]
    },
    {
      "cell_type": "code",
      "metadata": {
        "id": "HlYHPxhOu-YN",
        "colab_type": "code",
        "outputId": "01480af5-b1c4-413a-e3b4-0ed56629a26d",
        "colab": {
          "base_uri": "https://localhost:8080/",
          "height": 34
        }
      },
      "source": [
        "True == 1"
      ],
      "execution_count": 44,
      "outputs": [
        {
          "output_type": "execute_result",
          "data": {
            "text/plain": [
              "True"
            ]
          },
          "metadata": {
            "tags": []
          },
          "execution_count": 44
        }
      ]
    },
    {
      "cell_type": "code",
      "metadata": {
        "id": "dsxj28B5uZrN",
        "colab_type": "code",
        "outputId": "d5564fbc-9226-4f02-ca57-3f1e666b02f5",
        "colab": {
          "base_uri": "https://localhost:8080/",
          "height": 119
        }
      },
      "source": [
        "for x in a:\n",
        "  print(x)"
      ],
      "execution_count": 45,
      "outputs": [
        {
          "output_type": "stream",
          "text": [
            "Informatics\n",
            "1\n",
            "2\n",
            "3\n",
            "1996\n",
            "True\n"
          ],
          "name": "stdout"
        }
      ]
    },
    {
      "cell_type": "code",
      "metadata": {
        "id": "_PaUbIARuL62",
        "colab_type": "code",
        "colab": {
          "base_uri": "https://localhost:8080/",
          "height": 204
        },
        "outputId": "d4c55f21-3a51-4963-a75a-11088063b35b"
      },
      "source": [
        "for x in a[0]:\n",
        "  print(x)"
      ],
      "execution_count": 46,
      "outputs": [
        {
          "output_type": "stream",
          "text": [
            "I\n",
            "n\n",
            "f\n",
            "o\n",
            "r\n",
            "m\n",
            "a\n",
            "t\n",
            "i\n",
            "c\n",
            "s\n"
          ],
          "name": "stdout"
        }
      ]
    },
    {
      "cell_type": "code",
      "metadata": {
        "id": "JO4nqJPheW9r",
        "colab_type": "code",
        "colab": {}
      },
      "source": [
        "# Dictionary - "
      ],
      "execution_count": 0,
      "outputs": []
    },
    {
      "cell_type": "code",
      "metadata": {
        "id": "UVp7jUmDY-6m",
        "colab_type": "code",
        "outputId": "0e1bea36-531d-4afc-acba-ed4a2d564bd3",
        "colab": {
          "base_uri": "https://localhost:8080/",
          "height": 54
        }
      },
      "source": [
        "Dict = {\n",
        "    \"Name\":\"Aryen\",\n",
        "    \"BirthDate\":1996,\n",
        "    \"University\":\"Yeditepe\",\n",
        "    \"Club\":\"Informatics Club\",\n",
        "    \"Faculty\":\" Faculty of Commercial Sciences\",\n",
        "    \"Department\":\"Information Systems and Technologies\"\n",
        "    \"\"\n",
        "    }\n",
        "\n",
        "\n",
        "print(Dict)"
      ],
      "execution_count": 48,
      "outputs": [
        {
          "output_type": "stream",
          "text": [
            "{'Name': 'Aryen', 'BirthDate': 1996, 'University': 'Yeditepe', 'Club': 'Informatics Club', 'Faculty': ' Faculty of Commercial Sciences', 'Department': 'Information Systems and Technologies'}\n"
          ],
          "name": "stdout"
        }
      ]
    },
    {
      "cell_type": "markdown",
      "metadata": {
        "id": "pHOW4ZIKLrw_",
        "colab_type": "text"
      },
      "source": [
        "## Tuples are unchangeable, you can create the tuple and cannot make any changes on it"
      ]
    },
    {
      "cell_type": "code",
      "metadata": {
        "id": "fwRCYG1YKxni",
        "colab_type": "code",
        "outputId": "a1ef745e-2ade-4fe1-eac6-2df8107e6038",
        "colab": {
          "base_uri": "https://localhost:8080/",
          "height": 153
        }
      },
      "source": [
        "\n",
        "demet = (1,2,3,True,\"Yeditepe\",1996,\"Informatics\",False)\n",
        "\n",
        "for x in demet:\n",
        "  print(x)"
      ],
      "execution_count": 49,
      "outputs": [
        {
          "output_type": "stream",
          "text": [
            "1\n",
            "2\n",
            "3\n",
            "True\n",
            "Yeditepe\n",
            "1996\n",
            "Informatics\n",
            "False\n"
          ],
          "name": "stdout"
        }
      ]
    },
    {
      "cell_type": "code",
      "metadata": {
        "id": "aA41hotueAqQ",
        "colab_type": "code",
        "colab": {}
      },
      "source": [
        "# demet[-1] = True"
      ],
      "execution_count": 0,
      "outputs": []
    },
    {
      "cell_type": "code",
      "metadata": {
        "id": "UImro6pvYpkQ",
        "colab_type": "code",
        "outputId": "1fe60859-0898-4de5-b566-348b44e6bac5",
        "colab": {
          "base_uri": "https://localhost:8080/",
          "height": 34
        }
      },
      "source": [
        "demet[1]"
      ],
      "execution_count": 51,
      "outputs": [
        {
          "output_type": "execute_result",
          "data": {
            "text/plain": [
              "2"
            ]
          },
          "metadata": {
            "tags": []
          },
          "execution_count": 51
        }
      ]
    },
    {
      "cell_type": "markdown",
      "metadata": {
        "id": "pU_qejlgY_Ea",
        "colab_type": "text"
      },
      "source": [
        "## Sets"
      ]
    },
    {
      "cell_type": "code",
      "metadata": {
        "id": "sO0DVBhgY-PM",
        "colab_type": "code",
        "colab": {}
      },
      "source": [
        "#Sets are schemas in python. it's like Lists but without indexes when you print the set we get it's items random\n",
        "küme = {\"Yeditepe\", \"University\",\"Informatics\",\"Club\", True, 15}"
      ],
      "execution_count": 0,
      "outputs": []
    },
    {
      "cell_type": "code",
      "metadata": {
        "id": "mOxaKNHGU8i1",
        "colab_type": "code",
        "outputId": "06f0aeb3-981e-47ec-bc5c-60dfbff855dc",
        "colab": {
          "base_uri": "https://localhost:8080/",
          "height": 34
        }
      },
      "source": [
        "print(küme)"
      ],
      "execution_count": 53,
      "outputs": [
        {
          "output_type": "stream",
          "text": [
            "{True, 'University', 'Yeditepe', 15, 'Informatics', 'Club'}\n"
          ],
          "name": "stdout"
        }
      ]
    },
    {
      "cell_type": "code",
      "metadata": {
        "id": "eZgoE2RhVNb3",
        "colab_type": "code",
        "colab": {}
      },
      "source": [
        "küme.add(\"Yeditepe\")\n",
        "küme.add(\"7tepe\")"
      ],
      "execution_count": 0,
      "outputs": []
    },
    {
      "cell_type": "code",
      "metadata": {
        "id": "H0SoWQE_VV_f",
        "colab_type": "code",
        "outputId": "0e08738c-458a-45d3-8d7f-5bf4afe12d98",
        "colab": {
          "base_uri": "https://localhost:8080/",
          "height": 34
        }
      },
      "source": [
        "print(küme)"
      ],
      "execution_count": 55,
      "outputs": [
        {
          "output_type": "stream",
          "text": [
            "{True, 'University', 'Yeditepe', 15, '7tepe', 'Informatics', 'Club'}\n"
          ],
          "name": "stdout"
        }
      ]
    },
    {
      "cell_type": "code",
      "metadata": {
        "id": "pZfqlRADVk6O",
        "colab_type": "code",
        "colab": {}
      },
      "source": [
        "#If this string is an element of this set, discard method removes the string. or else it does nothing\n",
        "küme.discard(\"Yedi\")"
      ],
      "execution_count": 0,
      "outputs": []
    },
    {
      "cell_type": "markdown",
      "metadata": {
        "id": "QNE2DQp6HM8f",
        "colab_type": "text"
      },
      "source": [
        "#15 minutes break for coffee"
      ]
    },
    {
      "cell_type": "markdown",
      "metadata": {
        "id": "yfPaQCasgqGy",
        "colab_type": "text"
      },
      "source": [
        "#Arithmetic mean"
      ]
    },
    {
      "cell_type": "markdown",
      "metadata": {
        "id": "bNvc0rX4KDhR",
        "colab_type": "text"
      },
      "source": [
        "Arithmetic mean is the sum of a collection of numbers divided by the count of numbers in the collection. The **collection** is often a set of **results of an experiment** or **an observational study**, or frequently **a set of results from a survey**."
      ]
    },
    {
      "cell_type": "code",
      "metadata": {
        "id": "9NVA6oHkgwEi",
        "colab_type": "code",
        "outputId": "f9c18724-e36c-4b20-bddc-95824fade3d5",
        "colab": {
          "base_uri": "https://localhost:8080/",
          "height": 34
        }
      },
      "source": [
        "numbers = [1, 4, 9, 16, 21]\n",
        "\n",
        "mean = sum(numbers) / len(numbers)\n",
        "\n",
        "print(mean)"
      ],
      "execution_count": 66,
      "outputs": [
        {
          "output_type": "stream",
          "text": [
            "10.2\n"
          ],
          "name": "stdout"
        }
      ]
    },
    {
      "cell_type": "code",
      "metadata": {
        "id": "xNWxSaHzg4QA",
        "colab_type": "code",
        "outputId": "d928ad88-d423-46f6-de93-44e0fa4fb555",
        "colab": {
          "base_uri": "https://localhost:8080/",
          "height": 34
        }
      },
      "source": [
        "#Guess Example\n",
        "guess_numbers = [1,241,24,124,142,41]\n",
        "\n",
        "guess_mean = sum(guess_numbers) / len(guess_numbers)\n",
        "print(guess_mean)"
      ],
      "execution_count": 67,
      "outputs": [
        {
          "output_type": "stream",
          "text": [
            "95.5\n"
          ],
          "name": "stdout"
        }
      ]
    },
    {
      "cell_type": "markdown",
      "metadata": {
        "id": "XT9xChXwkSF3",
        "colab_type": "text"
      },
      "source": [
        "#Olasılık Oyunları\n",
        "\n"
      ]
    },
    {
      "cell_type": "markdown",
      "metadata": {
        "id": "nNiIGOyYey0V",
        "colab_type": "text"
      },
      "source": [
        "##Flip the coin which we have no pre-information"
      ]
    },
    {
      "cell_type": "markdown",
      "metadata": {
        "id": "jEb_0GkecF_n",
        "colab_type": "text"
      },
      "source": [
        "##If I toss a coin 10 times, what is the probability of getting tail?\n",
        "##Parayı 10 kere atarsam, yazı gelme ihtimali nedir ?"
      ]
    },
    {
      "cell_type": "code",
      "metadata": {
        "id": "90c1NCeRkUPG",
        "colab_type": "code",
        "outputId": "6ba0f2fb-be5b-4bf8-85bc-4a12a5510463",
        "colab": {
          "base_uri": "https://localhost:8080/",
          "height": 68
        }
      },
      "source": [
        "import random\n",
        "from tqdm import tqdm\n",
        "\n",
        "#te quiero demasiado\n",
        "#taqadum\n",
        "\n",
        "coin = ('heads', 'tails')\n",
        "game = list()\n",
        "trial = 10\n",
        "\n",
        "for x in tqdm(range(trial)):\n",
        "  flip = random.choice(coin)\n",
        "  game.append(flip)\n",
        "\n",
        "print(game.count('heads'), game.count('tails'))\n",
        "\n",
        "p_heads = game.count('heads') / trial\n",
        "p_tails = game.count('tails') / trial\n",
        "\n",
        "print(\"Probability of Heads: {0} ,  Probability of Tails {1}\".format(p_heads, p_tails))"
      ],
      "execution_count": 68,
      "outputs": [
        {
          "output_type": "stream",
          "text": [
            "100%|██████████| 10/10 [00:00<00:00, 9226.36it/s]"
          ],
          "name": "stderr"
        },
        {
          "output_type": "stream",
          "text": [
            "7 3\n",
            "Probability of Heads: 0.7 ,  Probability of Tails 0.3\n"
          ],
          "name": "stdout"
        },
        {
          "output_type": "stream",
          "text": [
            "\n"
          ],
          "name": "stderr"
        }
      ]
    },
    {
      "cell_type": "markdown",
      "metadata": {
        "id": "gmPqmRCVccAV",
        "colab_type": "text"
      },
      "source": [
        "##What if I increase the trials and get more observation?\n",
        "##Ya daha fazla denersem ve gözlem elde edersem, olasılık nasıl davranır ?"
      ]
    },
    {
      "cell_type": "markdown",
      "metadata": {
        "id": "1fNgNz673Dh2",
        "colab_type": "text"
      },
      "source": [
        "![alt text](https://upload.wikimedia.org/wikipedia/commons/4/49/Lawoflargenumbersanimation2.gif)"
      ]
    },
    {
      "cell_type": "code",
      "metadata": {
        "id": "zJOwgNX_liCA",
        "colab_type": "code",
        "outputId": "16f7217b-07c0-4f0c-8071-f470622da8d1",
        "colab": {
          "base_uri": "https://localhost:8080/",
          "height": 34
        }
      },
      "source": [
        "import numpy as np\n",
        "\n",
        "game = list()\n",
        "trial = 100000\n",
        "n=1\n",
        "p=0.5\n",
        "\n",
        "x=np.random.binomial(n=n, p=p, size=trial)\n",
        "\n",
        "\n",
        "p_heads = list(x).count(0) / trial\n",
        "p_tails = list(x).count(1) / trial\n",
        "\n",
        "print(\"Probability of Heads: {0} ,  Probability of Tails {1}\".format(p_heads, p_tails))"
      ],
      "execution_count": 69,
      "outputs": [
        {
          "output_type": "stream",
          "text": [
            "Probability of Heads: 0.49977 ,  Probability of Tails 0.50023\n"
          ],
          "name": "stdout"
        }
      ]
    },
    {
      "cell_type": "markdown",
      "metadata": {
        "id": "-Ly7G__33QvT",
        "colab_type": "text"
      },
      "source": [
        "##Law of Large Numbers"
      ]
    },
    {
      "cell_type": "markdown",
      "metadata": {
        "id": "t9jBfjWBfBAH",
        "colab_type": "text"
      },
      "source": [
        "![alt text](https://upload.wikimedia.org/wikipedia/commons/thumb/c/c9/Lawoflargenumbers.svg/400px-Lawoflargenumbers.svg.png)\n",
        "\n",
        "###more trials converge to the theoretical mean\n",
        "###deneme sayısını artırdıkça, gözlemlerin ortalaması, hakiki ortalamaya yakınsar."
      ]
    },
    {
      "cell_type": "markdown",
      "metadata": {
        "id": "wKRgRMQWfQFz",
        "colab_type": "text"
      },
      "source": [
        "#For loop properties"
      ]
    },
    {
      "cell_type": "code",
      "metadata": {
        "id": "H1Qu2EExBGrj",
        "colab_type": "code",
        "outputId": "6697c55a-032c-4fbb-b3e9-812fd5e96077",
        "colab": {
          "base_uri": "https://localhost:8080/",
          "height": 68
        }
      },
      "source": [
        "fruits = [\"apple\", \"banana\", \"cherry\"]\n",
        "for meyve in fruits:\n",
        "  print(meyve)\n"
      ],
      "execution_count": 70,
      "outputs": [
        {
          "output_type": "stream",
          "text": [
            "apple\n",
            "banana\n",
            "cherry\n"
          ],
          "name": "stdout"
        }
      ]
    },
    {
      "cell_type": "code",
      "metadata": {
        "id": "tDhBdLMHBHWb",
        "colab_type": "code",
        "outputId": "b3885ffe-2d5d-4d30-a6b1-4e48804cf8d8",
        "colab": {
          "base_uri": "https://localhost:8080/",
          "height": 119
        }
      },
      "source": [
        "#string içerisinde döngüler\n",
        "for harf in \"banana\":\n",
        "  print(harf)"
      ],
      "execution_count": 71,
      "outputs": [
        {
          "output_type": "stream",
          "text": [
            "b\n",
            "a\n",
            "n\n",
            "a\n",
            "n\n",
            "a\n"
          ],
          "name": "stdout"
        }
      ]
    },
    {
      "cell_type": "code",
      "metadata": {
        "id": "4k4dV3CwBOTF",
        "colab_type": "code",
        "outputId": "80d6f644-4d39-4d9a-a564-9e41f4576710",
        "colab": {
          "base_uri": "https://localhost:8080/",
          "height": 51
        }
      },
      "source": [
        "#döngü içerisinde belli bir item'ı pass geçmek\n",
        "ruits = [\"apple\", \"banana\", \"cherry\"]\n",
        "for meyve in fruits:\n",
        "  if meyve == \"banana\":\n",
        "    continue\n",
        "  print(meyve)"
      ],
      "execution_count": 72,
      "outputs": [
        {
          "output_type": "stream",
          "text": [
            "apple\n",
            "cherry\n"
          ],
          "name": "stdout"
        }
      ]
    },
    {
      "cell_type": "code",
      "metadata": {
        "id": "l2KQsGj3BSnb",
        "colab_type": "code",
        "outputId": "03cf5368-c158-443c-d533-2d93bd2cfb8e",
        "colab": {
          "base_uri": "https://localhost:8080/",
          "height": 34
        }
      },
      "source": [
        "#döngüyü kırmak\n",
        "fruits = [\"apple\", \"banana\", \"cherry\"]\n",
        "for x in fruits:\n",
        "  if x == \"banana\":\n",
        "    break\n",
        "  print(x)"
      ],
      "execution_count": 73,
      "outputs": [
        {
          "output_type": "stream",
          "text": [
            "apple\n"
          ],
          "name": "stdout"
        }
      ]
    },
    {
      "cell_type": "markdown",
      "metadata": {
        "id": "_BkbDCvaHHM0",
        "colab_type": "text"
      },
      "source": [
        "# Functions"
      ]
    },
    {
      "cell_type": "code",
      "metadata": {
        "id": "Vq6PtxGwBWYO",
        "colab_type": "code",
        "colab": {}
      },
      "source": [
        "def say_hello(name):\n",
        "  ''' This is say_hello description, it needs a name parameter '''\n",
        "\n",
        "  #more process could be done here.\n",
        "\n",
        "  return \"Welcome to Informatics \" + name"
      ],
      "execution_count": 0,
      "outputs": []
    },
    {
      "cell_type": "code",
      "metadata": {
        "id": "Di3BcBFnhw6P",
        "colab_type": "code",
        "outputId": "38bfad09-dfde-4371-a2c3-cbedcc18f71c",
        "colab": {
          "base_uri": "https://localhost:8080/",
          "height": 34
        }
      },
      "source": [
        "say_hello(\"Mehmet Ali Özer\")"
      ],
      "execution_count": 75,
      "outputs": [
        {
          "output_type": "execute_result",
          "data": {
            "text/plain": [
              "'Welcome to Informatics Mehmet Ali Özer'"
            ]
          },
          "metadata": {
            "tags": []
          },
          "execution_count": 75
        }
      ]
    },
    {
      "cell_type": "code",
      "metadata": {
        "id": "DWhws2Jihzcg",
        "colab_type": "code",
        "outputId": "7e1a8eca-ff9d-4228-81b6-a102f9846187",
        "colab": {
          "base_uri": "https://localhost:8080/",
          "height": 34
        }
      },
      "source": [
        "say_hello(\"Aryen Hemvatan\")"
      ],
      "execution_count": 76,
      "outputs": [
        {
          "output_type": "execute_result",
          "data": {
            "text/plain": [
              "'Welcome to Informatics Aryen Hemvatan'"
            ]
          },
          "metadata": {
            "tags": []
          },
          "execution_count": 76
        }
      ]
    },
    {
      "cell_type": "code",
      "metadata": {
        "id": "vop-UWqZh6Ll",
        "colab_type": "code",
        "colab": {}
      },
      "source": [
        "say_hello?"
      ],
      "execution_count": 0,
      "outputs": []
    },
    {
      "cell_type": "code",
      "metadata": {
        "id": "TKt2NDGC5viE",
        "colab_type": "code",
        "colab": {}
      },
      "source": [
        ""
      ],
      "execution_count": 0,
      "outputs": []
    }
  ]
}